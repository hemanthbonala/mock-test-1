{
 "cells": [
  {
   "cell_type": "code",
   "execution_count": 7,
   "id": "8441b381",
   "metadata": {},
   "outputs": [],
   "source": [
    "def find_first_unique(string):\n",
    "    l=list()\n",
    "    l.extend(s)\n",
    "    for i in range(len(l)):\n",
    "        if l.count(l[i])==1:\n",
    "            return i\n",
    "    else:\n",
    "        return -1\n",
    "\n",
    "    "
   ]
  },
  {
   "cell_type": "code",
   "execution_count": 8,
   "id": "57fb7687",
   "metadata": {},
   "outputs": [
    {
     "name": "stdout",
     "output_type": "stream",
     "text": [
      "Enter a string: leetcode\n",
      "0\n"
     ]
    }
   ],
   "source": [
    "s=input(\"Enter a string: \")\n",
    "print(find_first_unique(s))"
   ]
  },
  {
   "cell_type": "code",
   "execution_count": 9,
   "id": "dd820f1a",
   "metadata": {},
   "outputs": [
    {
     "name": "stdout",
     "output_type": "stream",
     "text": [
      "Enter a string: loveleetcode\n",
      "2\n"
     ]
    }
   ],
   "source": [
    "s=input(\"Enter a string: \")\n",
    "print(find_first_unique(s))"
   ]
  },
  {
   "cell_type": "code",
   "execution_count": 10,
   "id": "225b5fe2",
   "metadata": {},
   "outputs": [
    {
     "name": "stdout",
     "output_type": "stream",
     "text": [
      "Enter a string: aabb\n",
      "-1\n"
     ]
    }
   ],
   "source": [
    "s=input(\"Enter a string: \")\n",
    "print(find_first_unique(s))"
   ]
  },
  {
   "cell_type": "code",
   "execution_count": null,
   "id": "a2d60243",
   "metadata": {},
   "outputs": [],
   "source": []
  }
 ],
 "metadata": {
  "kernelspec": {
   "display_name": "Python 3 (ipykernel)",
   "language": "python",
   "name": "python3"
  },
  "language_info": {
   "codemirror_mode": {
    "name": "ipython",
    "version": 3
   },
   "file_extension": ".py",
   "mimetype": "text/x-python",
   "name": "python",
   "nbconvert_exporter": "python",
   "pygments_lexer": "ipython3",
   "version": "3.9.12"
  }
 },
 "nbformat": 4,
 "nbformat_minor": 5
}
