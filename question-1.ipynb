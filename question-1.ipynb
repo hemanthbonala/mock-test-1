{
 "cells": [
  {
   "cell_type": "code",
   "execution_count": 1,
   "id": "cfb25ae6",
   "metadata": {},
   "outputs": [],
   "source": [
    "def list_input():\n",
    "    l=[]\n",
    "    while True:\n",
    "        temp=input(\"Enter a valid integer or Enter s to stop : \")\n",
    "        if temp=='s' or temp=='S':\n",
    "            break\n",
    "        else:\n",
    "            try:\n",
    "                l.append(int(temp))\n",
    "            except Exception as e:\n",
    "                print(\"Enter a  valid integer\")\n",
    "    return l\n",
    "def leftShift(l,t,n):\n",
    "    temp=l[t]\n",
    "    for i in range(t,n):\n",
    "        l[i]=l[i+1]\n",
    "    l[n]=temp"
   ]
  },
  {
   "cell_type": "code",
   "execution_count": 3,
   "id": "458adf3a",
   "metadata": {},
   "outputs": [
    {
     "name": "stdout",
     "output_type": "stream",
     "text": [
      "Enter a valid integer or Enter s to stop : 0\n",
      "Enter a valid integer or Enter s to stop : 1\n",
      "Enter a valid integer or Enter s to stop : 0\n",
      "Enter a valid integer or Enter s to stop : 3\n",
      "Enter a valid integer or Enter s to stop : 1\n",
      "Enter a valid integer or Enter s to stop : 2\n",
      "Enter a valid integer or Enter s to stop : s\n"
     ]
    }
   ],
   "source": [
    "l=list_input()\n"
   ]
  },
  {
   "cell_type": "code",
   "execution_count": 4,
   "id": "61bfa905",
   "metadata": {},
   "outputs": [
    {
     "data": {
      "text/plain": [
       "[0, 1, 0, 3, 1, 2]"
      ]
     },
     "execution_count": 4,
     "metadata": {},
     "output_type": "execute_result"
    }
   ],
   "source": [
    "l"
   ]
  },
  {
   "cell_type": "code",
   "execution_count": 9,
   "id": "b9304c54",
   "metadata": {},
   "outputs": [
    {
     "name": "stdout",
     "output_type": "stream",
     "text": [
      "[1, 3, 1, 2, 0, 0]\n"
     ]
    }
   ],
   "source": [
    "n=len(l)\n",
    "for i in range(len(l)):\n",
    "    if l[i]==0:\n",
    "        if i<n:\n",
    "            leftShift(l,i,n-1)\n",
    "            n-=1\n",
    "    \n",
    "print(l)  \n",
    "        "
   ]
  },
  {
   "cell_type": "code",
   "execution_count": null,
   "id": "12f4c6fc",
   "metadata": {},
   "outputs": [],
   "source": [
    "\n",
    "    \n",
    "    \n",
    "        "
   ]
  },
  {
   "cell_type": "code",
   "execution_count": null,
   "id": "aba02183",
   "metadata": {},
   "outputs": [],
   "source": []
  },
  {
   "cell_type": "code",
   "execution_count": null,
   "id": "fc570e3d",
   "metadata": {},
   "outputs": [],
   "source": []
  },
  {
   "cell_type": "code",
   "execution_count": null,
   "id": "7f6e8d02",
   "metadata": {},
   "outputs": [],
   "source": []
  }
 ],
 "metadata": {
  "kernelspec": {
   "display_name": "Python 3 (ipykernel)",
   "language": "python",
   "name": "python3"
  },
  "language_info": {
   "codemirror_mode": {
    "name": "ipython",
    "version": 3
   },
   "file_extension": ".py",
   "mimetype": "text/x-python",
   "name": "python",
   "nbconvert_exporter": "python",
   "pygments_lexer": "ipython3",
   "version": "3.9.12"
  }
 },
 "nbformat": 4,
 "nbformat_minor": 5
}
